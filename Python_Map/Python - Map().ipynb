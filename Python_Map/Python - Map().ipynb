{
 "cells": [
  {
   "cell_type": "markdown",
   "metadata": {},
   "source": [
    "## Map Function in Python"
   ]
  },
  {
   "cell_type": "code",
   "execution_count": 23,
   "metadata": {},
   "outputs": [],
   "source": [
    "def prime_or_not(num):\n",
    "    if num%2==1:\n",
    "        return \"The number {} is prime\".format(num)\n",
    "    else:\n",
    "        return \"The number {} is not prime\".format(num)"
   ]
  },
  {
   "cell_type": "code",
   "execution_count": 24,
   "metadata": {},
   "outputs": [
    {
     "data": {
      "text/plain": [
       "'The number 9 is prime'"
      ]
     },
     "execution_count": 24,
     "metadata": {},
     "output_type": "execute_result"
    }
   ],
   "source": [
    "prime_or_not(9)"
   ]
  },
  {
   "cell_type": "code",
   "execution_count": 25,
   "metadata": {},
   "outputs": [],
   "source": [
    "lst=[1,5,6,7,8,94,5,6,12,3,4,5,7,8,4,5,1,2,1,4]"
   ]
  },
  {
   "cell_type": "code",
   "execution_count": 26,
   "metadata": {},
   "outputs": [
    {
     "data": {
      "text/plain": [
       "['The number 1 is prime',\n",
       " 'The number 5 is prime',\n",
       " 'The number 6 is not prime',\n",
       " 'The number 7 is prime',\n",
       " 'The number 8 is not prime',\n",
       " 'The number 94 is not prime',\n",
       " 'The number 5 is prime',\n",
       " 'The number 6 is not prime',\n",
       " 'The number 12 is not prime',\n",
       " 'The number 3 is prime',\n",
       " 'The number 4 is not prime',\n",
       " 'The number 5 is prime',\n",
       " 'The number 7 is prime',\n",
       " 'The number 8 is not prime',\n",
       " 'The number 4 is not prime',\n",
       " 'The number 5 is prime',\n",
       " 'The number 1 is prime',\n",
       " 'The number 2 is not prime',\n",
       " 'The number 1 is prime',\n",
       " 'The number 4 is not prime']"
      ]
     },
     "execution_count": 26,
     "metadata": {},
     "output_type": "execute_result"
    }
   ],
   "source": [
    "list(map(prime_or_not,lst))"
   ]
  }
 ],
 "metadata": {
  "kernelspec": {
   "display_name": "Python 3",
   "language": "python",
   "name": "python3"
  },
  "language_info": {
   "codemirror_mode": {
    "name": "ipython",
    "version": 3
   },
   "file_extension": ".py",
   "mimetype": "text/x-python",
   "name": "python",
   "nbconvert_exporter": "python",
   "pygments_lexer": "ipython3",
   "version": "3.7.6"
  }
 },
 "nbformat": 4,
 "nbformat_minor": 4
}
